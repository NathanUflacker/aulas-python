{
 "cells": [
  {
   "cell_type": "code",
   "execution_count": 77,
   "metadata": {},
   "outputs": [
    {
     "name": "stdout",
     "output_type": "stream",
     "text": [
      "Raiz x1: 2.0\n",
      "Raiz x2: 1.0\n"
     ]
    }
   ],
   "source": [
    "def calcular_raizes_quadradicas(a,b,c):\n",
    "    discriminante = b**2 - 4 * a * c\n",
    "    discriminante_calcu = discriminante\n",
    "\n",
    "    calcular_x1_x2 = lambda a, b, c: (\n",
    "        (-b + discriminante_calcu ** 0.5) / (2*a),\n",
    "        (-b - discriminante_calcu ** 0.5) / (2*a)\n",
    "    )\n",
    "\n",
    "    return calcular_x1_x2(a,b,c)\n",
    "\n",
    "raizes = calcular_raizes_quadradicas(1, -3, 2)\n",
    "print(\"Raiz x1:\", raizes[0])\n",
    "print(\"Raiz x2:\", raizes[1])"
   ]
  },
  {
   "cell_type": "code",
   "execution_count": null,
   "metadata": {},
   "outputs": [],
   "source": [
    "# 1\n",
    "\n",
    "notas_funcionario1 = [8,7,6,-2,9]\n",
    "notas_funcionario2 = [6,5,7,8,7]\n",
    "\n",
    "def calcular_media_funcionario():\n",
    "    notas_positivas = list(filter(lambda x:( x > 0),notas_funcionario1))\n",
    "    notas_positivas2 = list(filter(lambda x:(x > 0),notas_funcionario2))\n",
    "\n",
    "    media_funcionario1 = sum(notas_positivas)/len(notas_positivas)\n",
    "    media_funcionario2 = sum(notas_positivas2)/len(notas_positivas2)\n",
    "\n",
    "    print(\"Média Funcionário 1: \", media_funcionario1)\n",
    "    print(\"Média Funcionário 2: \", media_funcionario2)\n",
    " \n",
    "calcular_media_funcionario()"
   ]
  },
  {
   "cell_type": "code",
   "execution_count": null,
   "metadata": {},
   "outputs": [],
   "source": [
    "# 3\n",
    "\n",
    "df = pd.DataFrame({\n",
    "    'Texto':['O texto está agradável para passear e curtir',\n",
    "             'O parque é um ótimo lugar para curtir',\n",
    "             'As pessoas gostam de passear no parque com o tempo agradável']\n",
    "})\n",
    "\n",
    "def contagem(dataframe):\n",
    "    dataframe['Contagem'] = dataframe['Texto'].apply(lambda texto:len(texto))\n",
    "    return dataframe\n",
    "\n",
    "contagem(df)"
   ]
  },
  {
   "cell_type": "code",
   "execution_count": 78,
   "metadata": {},
   "outputs": [
    {
     "name": "stdout",
     "output_type": "stream",
     "text": [
      "No dia 1:\n",
      "Vendas: 10\n",
      "Reposições: 5\n",
      "Estoque atual: 15\n",
      "\n",
      "No dia 2:\n",
      "Vendas: 8\n",
      "Reposições: 3\n",
      "Estoque atual: 10\n",
      "\n",
      "No dia 3:\n",
      "Vendas: 12\n",
      "Reposições: 4\n",
      "Estoque atual: 2\n",
      "\n",
      "Estoque final: 2\n"
     ]
    }
   ],
   "source": [
    "# 4\n",
    "def simular_estoque(vendas, reposicoes, estoque_inicial):\n",
    "   estoque_atual = estoque_inicial\n",
    "   for dia, venda, reposicao in zip(range(1, len(vendas) + 1), vendas, reposicoes):\n",
    "       \n",
    "       estoque_atual -= venda\n",
    "       estoque_atual += reposicao\n",
    "       print(f\"No dia {dia}:\")\n",
    "       print(f\"Vendas: {venda}\")\n",
    "       print(f\"Reposições: {reposicao}\")\n",
    "       print(f\"Estoque atual: {estoque_atual}\\n\")\n",
    "       \n",
    "   return estoque_atual\n",
    "# Exemplo de uso\n",
    "vendas = [10, 8, 12]  # Lista de vendas\n",
    "reposicoes = [5, 3, 4]  # Lista de reposições\n",
    "estoque_inicial = 20  # Estoque inicial\n",
    "estoque_final = simular_estoque(vendas, reposicoes, estoque_inicial)\n",
    "print(f\"Estoque final: {estoque_final}\")"
   ]
  },
  {
   "cell_type": "code",
   "execution_count": 80,
   "metadata": {},
   "outputs": [
    {
     "name": "stdout",
     "output_type": "stream",
     "text": [
      "Média Salarios: 5575.0. Média alguel 1550.0. Média fornecedores 2150.0.\n"
     ]
    }
   ],
   "source": [
    "# 5\n",
    "despesas = {'Salarios':[5000, 5500, 6000, 5800],\n",
    "            'Aluguel': [1500, 1500, 1600, 1600],\n",
    "            'Fornecedores': [2000, 2200, 2300, 2100]}\n",
    "\n",
    "df_despesas = pd.DataFrame(despesas)\n",
    "\n",
    "media_salarios = df_despesas['Salarios'].apply(lambda x: x).mean()\n",
    "media_aluguel = df_despesas['Aluguel'].apply(lambda x: x).mean()\n",
    "media_fornecedores = df_despesas['Fornecedores'].apply(lambda x: x).mean()\n",
    "\n",
    "print(f'Média Salarios: {media_salarios}. Média alguel {media_aluguel}. Média fornecedores {media_fornecedores}.')"
   ]
  },
  {
   "cell_type": "code",
   "execution_count": null,
   "metadata": {},
   "outputs": [],
   "source": [
    "# 6\n",
    "\n",
    "def calcular_raizes_quadradicas(a,b,c):\n",
    "    discriminante = b**2 - 4 * a * c\n",
    "    discriminante_calcu = discriminante\n",
    "\n",
    "    calcular_x1_x2 = lambda a, b, c: (\n",
    "        (-b + discriminante_calcu ** 0.5) / (2*a),\n",
    "        (-b - discriminante_calcu ** 0.5) / (2*a)\n",
    "    )\n",
    "\n",
    "    return calcular_x1_x2(a,b,c)\n",
    "\n",
    "raizes = calcular_raizes_quadradicas(1, -3, 2)\n",
    "print(\"Raiz x1:\", raizes[0])\n",
    "print(\"Raiz x2:\", raizes[1])"
   ]
  },
  {
   "cell_type": "code",
   "execution_count": null,
   "metadata": {},
   "outputs": [],
   "source": [
    "#7\n",
    "# A) Correto\n",
    "# B) Correto\n",
    "# C) Incorreto\n",
    "# D) Incorreto\n",
    "# F) Correto"
   ]
  }
 ],
 "metadata": {
  "kernelspec": {
   "display_name": "Python 3",
   "language": "python",
   "name": "python3"
  },
  "language_info": {
   "codemirror_mode": {
    "name": "ipython",
    "version": 3
   },
   "file_extension": ".py",
   "mimetype": "text/x-python",
   "name": "python",
   "nbconvert_exporter": "python",
   "pygments_lexer": "ipython3",
   "version": "3.11.4"
  },
  "orig_nbformat": 4
 },
 "nbformat": 4,
 "nbformat_minor": 2
}
