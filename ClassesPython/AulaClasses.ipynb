{
 "cells": [
  {
   "attachments": {},
   "cell_type": "markdown",
   "metadata": {},
   "source": [
    "# Classes"
   ]
  },
  {
   "cell_type": "code",
   "execution_count": 1,
   "metadata": {},
   "outputs": [],
   "source": [
    "class MyClass:\n",
    "    MyVar = 0\n"
   ]
  },
  {
   "cell_type": "code",
   "execution_count": 2,
   "metadata": {},
   "outputs": [],
   "source": [
    "MyInstance = MyClass()"
   ]
  },
  {
   "cell_type": "code",
   "execution_count": 3,
   "metadata": {},
   "outputs": [
    {
     "data": {
      "text/plain": [
       "__main__.MyClass"
      ]
     },
     "execution_count": 3,
     "metadata": {},
     "output_type": "execute_result"
    }
   ],
   "source": [
    "MyInstance.__class__"
   ]
  },
  {
   "cell_type": "code",
   "execution_count": 4,
   "metadata": {},
   "outputs": [],
   "source": [
    "class MyClass:\n",
    "    def SayHello():\n",
    "        print(\"Hello World\")"
   ]
  },
  {
   "cell_type": "code",
   "execution_count": 6,
   "metadata": {},
   "outputs": [
    {
     "name": "stdout",
     "output_type": "stream",
     "text": [
      "Hello World\n"
     ]
    }
   ],
   "source": [
    "MyInstance = MyClass()\n",
    "MyClass.SayHello()"
   ]
  },
  {
   "cell_type": "code",
   "execution_count": 16,
   "metadata": {},
   "outputs": [],
   "source": [
    "class MyClass:\n",
    "    Greetings = \"\"\n",
    "\n",
    "    def __init__(self, Name = \" there\"):\n",
    "        self.Greetings = Name + \"!\"\n",
    "\n",
    "    def SayHello(self):\n",
    "        print(\"Hello {0}\".format(self.Greetings))"
   ]
  },
  {
   "cell_type": "code",
   "execution_count": 14,
   "metadata": {},
   "outputs": [
    {
     "name": "stdout",
     "output_type": "stream",
     "text": [
      "Hello there! \n"
     ]
    }
   ],
   "source": [
    "MyInstance = MyClass()\n",
    "\n",
    "MyInstance.SayHello()"
   ]
  },
  {
   "cell_type": "code",
   "execution_count": 17,
   "metadata": {},
   "outputs": [
    {
     "name": "stdout",
     "output_type": "stream",
     "text": [
      "Hello Ana!\n"
     ]
    }
   ],
   "source": [
    "MyInstance2 = MyClass(\"Ana\")\n",
    "\n",
    "MyInstance2.SayHello()"
   ]
  },
  {
   "attachments": {},
   "cell_type": "markdown",
   "metadata": {},
   "source": [
    "Classe Cachorro\n",
    "\n",
    "Nome e Idade // Sentar e Rolar"
   ]
  },
  {
   "cell_type": "code",
   "execution_count": 25,
   "metadata": {},
   "outputs": [],
   "source": [
    "class Cachorro():\n",
    "    def __init__(self, nome, idade):\n",
    "        self.nome = nome\n",
    "        self.idade = idade\n",
    "\n",
    "    def sentar(self):\n",
    "        \"\"\"Simula um cachorro sentando\"\"\"\n",
    "        print(f'{self.nome} está sentado')\n",
    "\n",
    "    def rolar(self):\n",
    "        print(f\"{self.nome} rolou!\")"
   ]
  },
  {
   "cell_type": "code",
   "execution_count": 29,
   "metadata": {},
   "outputs": [
    {
     "name": "stdout",
     "output_type": "stream",
     "text": [
      "O nome do cachorro um é Luppy\n",
      "A idade do cachorro um é 4\n",
      "O nome do cachorro um é Saitama\n",
      "A idade do cachorro um é 6\n"
     ]
    }
   ],
   "source": [
    "cachorro1 = Cachorro(\"Luppy\", 4)\n",
    "cachorro2 = Cachorro(\"Saitama\", 6)\n",
    "\n",
    "print(f\"O nome do cachorro um é {cachorro1.nome}\")\n",
    "print(f\"A idade do cachorro um é {cachorro1.idade}\")\n",
    "print(f\"O nome do cachorro um é {cachorro2.nome}\")\n",
    "print(f\"A idade do cachorro um é {cachorro2.idade}\")\n"
   ]
  },
  {
   "cell_type": "code",
   "execution_count": 31,
   "metadata": {},
   "outputs": [
    {
     "name": "stdout",
     "output_type": "stream",
     "text": [
      "Luppy está sentado\n",
      "Saitama está sentado\n"
     ]
    }
   ],
   "source": [
    "cachorro1.sentar()\n",
    "cachorro2.sentar()"
   ]
  },
  {
   "cell_type": "code",
   "execution_count": 32,
   "metadata": {},
   "outputs": [
    {
     "name": "stdout",
     "output_type": "stream",
     "text": [
      "Luppy rolou!\n"
     ]
    }
   ],
   "source": [
    "cachorro1.rolar()"
   ]
  },
  {
   "attachments": {},
   "cell_type": "markdown",
   "metadata": {},
   "source": [
    "Representando conta"
   ]
  },
  {
   "cell_type": "code",
   "execution_count": 102,
   "metadata": {},
   "outputs": [],
   "source": [
    "class Conta():\n",
    "    def __init__(self, quantia, saldo):\n",
    "        self.saldo = quantia\n",
    "\n",
    "\n",
    "    def deposito(self, quantia):\n",
    "        self.saldo = self.saldo + quantia\n",
    "        return self.saldo\n",
    "    \n",
    "    \"\"\"Levantamento = sacar (em português)\"\"\"\n",
    "\n",
    "    def levantamento(self, quantia):\n",
    "        if self.saldo - quantia > 0:\n",
    "            self.saldo = self.saldo - quantia\n",
    "            return self.saldo\n",
    "        else:\n",
    "            print(\"Saldo insuficiente.\")\n",
    "\n",
    "    def consulta(self):\n",
    "        return self.saldo\n",
    "    "
   ]
  },
  {
   "cell_type": "code",
   "execution_count": 104,
   "metadata": {},
   "outputs": [],
   "source": [
    "conta1 = Conta(300, 100)"
   ]
  },
  {
   "cell_type": "code",
   "execution_count": 110,
   "metadata": {},
   "outputs": [
    {
     "name": "stdout",
     "output_type": "stream",
     "text": [
      "Saldo inicial:  780\n"
     ]
    }
   ],
   "source": [
    "conta1.deposito(200)\n",
    "print(\"Saldo inicial: \", conta1.consulta())"
   ]
  },
  {
   "cell_type": "code",
   "execution_count": 111,
   "metadata": {},
   "outputs": [
    {
     "name": "stdout",
     "output_type": "stream",
     "text": [
      "Você sacou:  750\n"
     ]
    }
   ],
   "source": [
    "conta1.levantamento(30)\n",
    "print(\"Você sacou: \", conta1.consulta())"
   ]
  },
  {
   "cell_type": "code",
   "execution_count": 82,
   "metadata": {},
   "outputs": [
    {
     "name": "stdout",
     "output_type": "stream",
     "text": [
      "Saldo insuficiente.\n"
     ]
    }
   ],
   "source": [
    "conta1.levantamento(500)"
   ]
  },
  {
   "cell_type": "code",
   "execution_count": 116,
   "metadata": {},
   "outputs": [
    {
     "name": "stdout",
     "output_type": "stream",
     "text": [
      "Saldo inicial:  200\n",
      "Saldo após depósito:  750\n",
      "Saldo após o saque:  360\n"
     ]
    }
   ],
   "source": [
    "conta2 = Conta(200, 100)\n",
    "\n",
    "# Saldo inicial\n",
    "\n",
    "print(\"Saldo inicial: \", conta2.consulta())\n",
    "\n",
    "# Deposito\n",
    "\n",
    "conta2.deposito(200)\n",
    "print(\"Saldo após depósito: \", conta1.consulta())\n",
    "\n",
    "# Levantamento\n",
    "\n",
    "conta2.levantamento(40)\n",
    "print(\"Saldo após o saque: \", conta2.consulta())"
   ]
  },
  {
   "attachments": {},
   "cell_type": "markdown",
   "metadata": {},
   "source": [
    "# Restaurante"
   ]
  },
  {
   "cell_type": "code",
   "execution_count": 126,
   "metadata": {},
   "outputs": [],
   "source": [
    "class Restaurante():\n",
    "    def __init__(self, restaurante_nome, cozinha_tipo):\n",
    "        self.nome = restaurante_nome\n",
    "        self.tipo = cozinha_tipo\n",
    "        \n",
    "    def descricao_restaurante(self):\n",
    "        print(\"Bem vindo ao\", self.nome, \"e é especializado em comida\", self.tipo)\n",
    "\n",
    "    def open_restaurante(self):\n",
    "        print(\"O restaurante está aberto!\")"
   ]
  },
  {
   "cell_type": "code",
   "execution_count": 127,
   "metadata": {},
   "outputs": [
    {
     "name": "stdout",
     "output_type": "stream",
     "text": [
      "Bem vindo ao Restaurante da mariazinha e é especializado em comida Italiana\n"
     ]
    }
   ],
   "source": [
    "# Cria a instância da classe restaurante\n",
    "\n",
    "mama_mia = Restaurante(\"Restaurante da mariazinha\", \"Italiana\")\n",
    "\n",
    "# Testa se os atributos foram atribuidos corretamento.\n",
    "\n",
    "mama_mia.descricao_restaurante()"
   ]
  },
  {
   "cell_type": "code",
   "execution_count": 132,
   "metadata": {},
   "outputs": [],
   "source": [
    "class Veiculo():\n",
    "    def __init__(self, cor, estilo):\n",
    "        self.cor = cor\n",
    "        self.estilo = estilo\n",
    "    \n",
    "    def descricao_carro(self):\n",
    "        print(f\"Seu veículo é: {self.cor} e do estilo {self.estilo}\")"
   ]
  },
  {
   "cell_type": "code",
   "execution_count": 134,
   "metadata": {},
   "outputs": [],
   "source": [
    "# Criando a instância da classe Veículo\n",
    "\n",
    "carro = Veiculo(\"Vermelho\", \"JDM\")"
   ]
  },
  {
   "cell_type": "code",
   "execution_count": 135,
   "metadata": {},
   "outputs": [
    {
     "name": "stdout",
     "output_type": "stream",
     "text": [
      "Seu veículo é: Vermelho e do estilo JDM\n"
     ]
    }
   ],
   "source": [
    "# Testa se o atributo foi atribuido corretamente\n",
    "\n",
    "carro.descricao_carro()"
   ]
  }
 ],
 "metadata": {
  "kernelspec": {
   "display_name": "Python 3",
   "language": "python",
   "name": "python3"
  },
  "language_info": {
   "codemirror_mode": {
    "name": "ipython",
    "version": 3
   },
   "file_extension": ".py",
   "mimetype": "text/x-python",
   "name": "python",
   "nbconvert_exporter": "python",
   "pygments_lexer": "ipython3",
   "version": "3.11.4"
  },
  "orig_nbformat": 4
 },
 "nbformat": 4,
 "nbformat_minor": 2
}
