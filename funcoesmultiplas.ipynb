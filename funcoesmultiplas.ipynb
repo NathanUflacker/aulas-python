{
 "cells": [
  {
   "attachments": {},
   "cell_type": "markdown",
   "metadata": {},
   "source": [
    "# Múltiplas Funções"
   ]
  },
  {
   "cell_type": "code",
   "execution_count": 1,
   "metadata": {},
   "outputs": [],
   "source": [
    "def quadrado(x):\n",
    "    y = x*x\n",
    "    return y"
   ]
  },
  {
   "cell_type": "code",
   "execution_count": 8,
   "metadata": {},
   "outputs": [
    {
     "name": "stdout",
     "output_type": "stream",
     "text": [
      "4\n",
      "16\n",
      "36\n"
     ]
    }
   ],
   "source": [
    "def soma_quadrado(x, y, z):\n",
    "    a = quadrado(x)\n",
    "    b = quadrado(y)\n",
    "    c = quadrado(z)\n",
    "    return a + b + c\n",
    "\n",
    "teste = soma_quadrado(2, 4, 6)\n",
    "print(quadrado(2))\n",
    "print(quadrado(4))\n",
    "print(quadrado(6))"
   ]
  },
  {
   "cell_type": "code",
   "execution_count": 12,
   "metadata": {},
   "outputs": [
    {
     "data": {
      "text/plain": [
       "10.0"
      ]
     },
     "execution_count": 12,
     "metadata": {},
     "output_type": "execute_result"
    }
   ],
   "source": [
    "def area_retangulo(comprimento, altura):\n",
    "    resultado = comprimento * altura\n",
    "    return resultado\n",
    "\n",
    "def pergunta():\n",
    "    l = float(input('Digite o comprimento'))\n",
    "    c = float(input('Digite a altura'))\n",
    "    area = area_retangulo(l, c)\n",
    "    return area\n",
    "\n",
    "pergunta()\n"
   ]
  },
  {
   "attachments": {},
   "cell_type": "markdown",
   "metadata": {},
   "source": [
    "3. Crie um programa para calcular a soma (função_soma) e a média (função_media) usando duas funções.\n",
    "\n",
    "lista =  [10, 20, 30, 40, 50]\n",
    "\n",
    "4. Crie um programa para retornar o valor mínimo, outra para retornar o valor máximo e outra para retornar a diferença entre o máximo e mínimo\n",
    "\n",
    "lista = [10, 20, 30, 40, 50]\n",
    "\n"
   ]
  },
  {
   "cell_type": "code",
   "execution_count": 13,
   "metadata": {},
   "outputs": [
    {
     "data": {
      "text/plain": [
       "30.0"
      ]
     },
     "execution_count": 13,
     "metadata": {},
     "output_type": "execute_result"
    }
   ],
   "source": [
    "lista =  [10, 20, 30, 40, 50]\n",
    "\n",
    "def soma():\n",
    "    a = sum(lista)\n",
    "    return a\n",
    "\n",
    "def funkao_media():\n",
    "    media = soma() / len(lista)\n",
    "    return media\n",
    "\n",
    "\n",
    "funkao_media()"
   ]
  },
  {
   "cell_type": "code",
   "execution_count": 17,
   "metadata": {},
   "outputs": [
    {
     "data": {
      "text/plain": [
       "40"
      ]
     },
     "execution_count": 17,
     "metadata": {},
     "output_type": "execute_result"
    }
   ],
   "source": [
    "lista = [10, 20, 30, 40, 50]\n",
    "\n",
    "def valor_minimo():\n",
    "    minimo = min(lista)\n",
    "    return minimo\n",
    "\n",
    "def valor_maximo():\n",
    "    maximo = max(lista)\n",
    "    return maximo\n",
    "\n",
    "def diff():\n",
    "   diferenca = valor_maximo() - valor_minimo()\n",
    "   return diferenca\n",
    "\n"
   ]
  },
  {
   "attachments": {},
   "cell_type": "markdown",
   "metadata": {},
   "source": [
    "5. Crie um programa que socilita o salário de um funcionário. Após isso, crie uma segunda função para calcular o desconto do funcionário. Posteriormente, crie uma terceira função para retornar o salário que o funcionário deverá receber.\n",
    "\n",
    "lista = [10, 20, 30, 40, 50]"
   ]
  },
  {
   "attachments": {},
   "cell_type": "markdown",
   "metadata": {},
   "source": [
    "Faixas salariais e seus respectivos descontos:\n",
    "\n",
    "- até 2000 reais: 10% de desconto\n",
    "- Acima de 2000 até 4800 reais: 15% de desconto\n",
    "- Acima de 4800 até 6000 reais: 20% de desconto\n",
    "- Acima de 6000 reais: 30%"
   ]
  },
  {
   "cell_type": "code",
   "execution_count": 24,
   "metadata": {},
   "outputs": [
    {
     "name": "stdout",
     "output_type": "stream",
     "text": [
      "4200.0\n"
     ]
    }
   ],
   "source": [
    "def qual_salario():\n",
    "    salario = float(input('Qual seu salário?'))\n",
    "    return salario\n",
    "\n",
    "def desconto_salario(salario):\n",
    "    if salario <= 2000:\n",
    "        salario = salario * 0.1\n",
    "    elif salario > 2000 and salario < 4800:\n",
    "        salario = salario * 0.15\n",
    "    elif salario > 4800 and salario < 6000:\n",
    "        salario = salario * 0.2\n",
    "    else:\n",
    "        salario = salario * 0.3\n",
    "    return salario\n",
    "\n",
    "def salario_receber():\n",
    "    salario = qual_salario()\n",
    "    desconto = desconto_salario(salario)\n",
    "    salario_receber = salario - desconto\n",
    "    return salario_receber\n",
    "\n",
    "print(salario_receber())\n"
   ]
  },
  {
   "attachments": {},
   "cell_type": "markdown",
   "metadata": {},
   "source": [
    "6. Crie um programa para calcular área de um círculo. Uma função para calcular a área e outra para classifiar a área.\n",
    "\n",
    "- area > 100 - grande círculo\n",
    "- area > 50 - médio círculo\n",
    "- else - pequeno círculo\n",
    "\n",
    "7. Crie uma função para multiplicar os valores de duas listas. A primeira função faz a multiplicação e a segunda pegará a primeira e utilizará um append produtos = [] para multiplicar os respectivos índices das duas listas.\n",
    "\n",
    "- lista 1 = [1, 2, 3, 4]\n",
    "- lista 2 = [5, 6, 7, 8]"
   ]
  },
  {
   "cell_type": "code",
   "execution_count": 29,
   "metadata": {},
   "outputs": [
    {
     "name": "stdout",
     "output_type": "stream",
     "text": [
      "É um circulo grande\n"
     ]
    }
   ],
   "source": [
    "def area_circ():\n",
    "    pi = 3.14\n",
    "    r = float(input('Digite o raio do caralho do circulo'))\n",
    "    area = pi * (r**2)\n",
    "    return area\n",
    "\n",
    "def tipo_circ():\n",
    "    area = area_circ()\n",
    "    if area > 100:\n",
    "        print('É um circulo grande')\n",
    "    elif area > 50:\n",
    "        print('É um circulo médio')\n",
    "    else:\n",
    "        print('É um circulo minusculo em')\n",
    "\n",
    "tipo_circ()"
   ]
  },
  {
   "attachments": {},
   "cell_type": "markdown",
   "metadata": {},
   "source": [
    "7. Crie uma função para multiplicar os valores de duas listas. A primeira função faz a multiplicação e a segunda pegará a primeira e utilizará um append produtos = [] para multiplicar os respectivos índices das duas listas.\n",
    "\n",
    "- lista 1 = [1, 2, 3, 4]\n",
    "- lista 2 = [5, 6, 7, 8]"
   ]
  },
  {
   "cell_type": "code",
   "execution_count": 62,
   "metadata": {},
   "outputs": [
    {
     "data": {
      "text/plain": [
       "[5, 12, 21, 32]"
      ]
     },
     "execution_count": 62,
     "metadata": {},
     "output_type": "execute_result"
    }
   ],
   "source": [
    "lista_1 = [1, 2, 3, 4]\n",
    "lista_2 = [5, 6, 7, 8]\n",
    "\n",
    "def multipli(x, y):\n",
    "    z = x * y\n",
    "    return z\n",
    "    \n",
    "def multi_listas():\n",
    "    produtos = []\n",
    "    for a in range(len(lista_1)):\n",
    "        produtos.append(multipli(lista_1[a],lista_2[a]))\n",
    "    return produtos\n",
    "\n",
    "\n",
    "multi_listas()"
   ]
  },
  {
   "attachments": {},
   "cell_type": "markdown",
   "metadata": {},
   "source": [
    " 8. Crie um programa para uma calculadora simples de tal forma que tenha uma função para cada operação (-, +, /, *). Posteriormente, crie uma função para operações que fará as quatro operações ao mesmo tempo."
   ]
  },
  {
   "cell_type": "code",
   "execution_count": null,
   "metadata": {},
   "outputs": [],
   "source": [
    "# resultados = []\n",
    "\n",
    "# for op, a, b, in operacoes:\n",
    "#     if op == (+):\n",
    "#         resultados.append(somar(a, b))\n",
    "# resul = ('-', 10,5), ('*', 10,5), ('/', 1,5)\n",
    "\n",
    "\n",
    "\n"
   ]
  },
  {
   "attachments": {},
   "cell_type": "markdown",
   "metadata": {},
   "source": [
    "# 9. Criar um programa para jogo de advinhação\n",
    "\n",
    "import random\n",
    "\n",
    "crie uma função número secreto"
   ]
  }
 ],
 "metadata": {
  "kernelspec": {
   "display_name": "Python 3",
   "language": "python",
   "name": "python3"
  },
  "language_info": {
   "codemirror_mode": {
    "name": "ipython",
    "version": 3
   },
   "file_extension": ".py",
   "mimetype": "text/x-python",
   "name": "python",
   "nbconvert_exporter": "python",
   "pygments_lexer": "ipython3",
   "version": "3.11.4"
  },
  "orig_nbformat": 4
 },
 "nbformat": 4,
 "nbformat_minor": 2
}
