{
 "cells": [
  {
   "attachments": {},
   "cell_type": "markdown",
   "metadata": {},
   "source": [
    "# Tuplas \n",
    "\n",
    "- sequência imutavel de comprimento fixo de objetos python; A maneira mais fácil de criar um é com a sequencia de valores separados por vírgula.\n",
    "\n",
    "- Quando definida em expressões mais complicadas, muitas vezes é necessário colocar os valores entre parênteses, como neste exemplo de criação de uma tupla de tuplas:\n",
    "\n",
    "tupla_tupla = ((4,5,6)(7,8))\n",
    "    print(tupla_tupla[0]) = (4,5,6)\n",
    "    print(tupla_tupla[1]) = (7,8)\n",
    "    print(tupla_tupla[0][1]) = (5)\n",
    "        \n",
    "## Converter Sequência em uma dupla\n",
    "\n",
    "- Sequencia em dupla = \n",
    "        tupla([4,0,2])"
   ]
  },
  {
   "cell_type": "code",
   "execution_count": 3,
   "metadata": {},
   "outputs": [
    {
     "ename": "TypeError",
     "evalue": "'tuple' object does not support item assignment",
     "output_type": "error",
     "traceback": [
      "\u001b[1;31m---------------------------------------------------------------------------\u001b[0m",
      "\u001b[1;31mTypeError\u001b[0m                                 Traceback (most recent call last)",
      "Cell \u001b[1;32mIn[3], line 3\u001b[0m\n\u001b[0;32m      1\u001b[0m tupla \u001b[39m=\u001b[39m \u001b[39mtuple\u001b[39m([\u001b[39m'\u001b[39m\u001b[39mFoo\u001b[39m\u001b[39m'\u001b[39m, [\u001b[39m1\u001b[39m,\u001b[39m2\u001b[39m], \u001b[39mTrue\u001b[39;00m])\n\u001b[1;32m----> 3\u001b[0m tupla[\u001b[39m2\u001b[39;49m] \u001b[39m=\u001b[39m \u001b[39mFalse\u001b[39;00m\n",
      "\u001b[1;31mTypeError\u001b[0m: 'tuple' object does not support item assignment"
     ]
    }
   ],
   "source": [
    "tupla = tuple(['Foo', [1,2], True])\n",
    "\n",
    "tupla[2] = False\n",
    "\n",
    "# Python dizendo que não é possível mudar o valor dentro de uma tupla"
   ]
  },
  {
   "cell_type": "code",
   "execution_count": 5,
   "metadata": {},
   "outputs": [
    {
     "data": {
      "text/plain": [
       "('Foo', [1, 2, 3], True)"
      ]
     },
     "execution_count": 5,
     "metadata": {},
     "output_type": "execute_result"
    }
   ],
   "source": [
    "tupla = tuple(['Foo', [1,2], True])\n",
    "\n",
    "tupla[1].append(3)\n",
    "tupla"
   ]
  },
  {
   "cell_type": "code",
   "execution_count": 8,
   "metadata": {},
   "outputs": [
    {
     "data": {
      "text/plain": [
       "(8, 16, 24)"
      ]
     },
     "execution_count": 8,
     "metadata": {},
     "output_type": "execute_result"
    }
   ],
   "source": [
    "tupla = (4,8,12)\n",
    "nova_tupla = []\n",
    "\n",
    "for numero in tupla:\n",
    "    novo_numero = numero*2\n",
    "    nova_tupla.append(novo_numero)\n",
    "\n",
    "nova_tupla = tuple(nova_tupla)\n",
    "nova_tupla"
   ]
  },
  {
   "attachments": {},
   "cell_type": "markdown",
   "metadata": {},
   "source": [
    "# Como modificar os dados da primeira tupla?\n",
    "\n",
    "- tupla = tuple(['foo', [1,2], True])\n",
    "- lista = list(tupla) - transformar em uma lista \n",
    "- lista.insert(0, 'hoje') - Usar o comando inset e inserir a posição da tupla e o nome\n",
    "- nova_tupla = tupla(lista) - Transformar em uma tupla novamente"
   ]
  },
  {
   "cell_type": "code",
   "execution_count": 9,
   "metadata": {},
   "outputs": [
    {
     "name": "stdout",
     "output_type": "stream",
     "text": [
      "8\n",
      "16\n",
      "24\n"
     ]
    }
   ],
   "source": [
    "tupla = (4,8,12)\n",
    "\n",
    "for numero in tupla:\n",
    "    novo_numero = numero*2\n",
    "    print(novo_numero)"
   ]
  },
  {
   "cell_type": "code",
   "execution_count": 12,
   "metadata": {},
   "outputs": [
    {
     "data": {
      "text/plain": [
       "6"
      ]
     },
     "execution_count": 12,
     "metadata": {},
     "output_type": "execute_result"
    }
   ],
   "source": [
    "tupla = (4,5,6)\n",
    "\n",
    "a, b, c = tupla\n"
   ]
  },
  {
   "cell_type": "code",
   "execution_count": 17,
   "metadata": {},
   "outputs": [
    {
     "data": {
      "text/plain": [
       "(4, 5, (6, 7))"
      ]
     },
     "execution_count": 17,
     "metadata": {},
     "output_type": "execute_result"
    }
   ],
   "source": [
    "tupla = 4, 5, (6,7)\n",
    "\n",
    "a, b, (c, d) = tupla\n",
    "\n",
    "a, b, (c, d)"
   ]
  },
  {
   "cell_type": "code",
   "execution_count": 18,
   "metadata": {},
   "outputs": [],
   "source": [
    "a, b = 1, 2 # - > a = 1 | b = 2\n",
    "b, a = a, b # - > a = 2 | b = 1"
   ]
  },
  {
   "cell_type": "code",
   "execution_count": 19,
   "metadata": {},
   "outputs": [
    {
     "name": "stdout",
     "output_type": "stream",
     "text": [
      "Depois da troca: \n",
      "a = 5\n",
      "b = 10\n"
     ]
    }
   ],
   "source": [
    "a = 10\n",
    "b = 5\n",
    "\n",
    "temp = a \n",
    "a = b\n",
    "b = temp\n",
    "\n",
    "print(\"Depois da troca: \")\n",
    "print(\"a =\", a)\n",
    "print(\"b =\", b)"
   ]
  },
  {
   "attachments": {},
   "cell_type": "markdown",
   "metadata": {},
   "source": [
    "# Exercícios"
   ]
  },
  {
   "cell_type": "code",
   "execution_count": 32,
   "metadata": {},
   "outputs": [
    {
     "data": {
      "text/plain": [
       "('maca', 'banana', 'manga', 'uva')"
      ]
     },
     "execution_count": 32,
     "metadata": {},
     "output_type": "execute_result"
    }
   ],
   "source": [
    "# 1. Crie uma tupla chamada frutas com os seguintes elementos: 'maçã', 'banana', 'laranja', 'uva'.\n",
    "\n",
    "tupla_aula = ('maca', 'banana', 'laranja', 'uva')\n",
    "\n",
    "# 2. Acesse o segundo elemento da tupla frutas.\n",
    "\n",
    "tupla_aula[1]\n",
    "\n",
    "# 3. Substitua o terceiro elemento da tupla frutas por 'manga' e armazene a tupla modificada em uma nova variável chamada frutas_modificadas.\n",
    "\n",
    "lista = list(tupla_aula)\n",
    "lista.insert(2, 'manga')\n",
    "lista.remove('laranja')\n",
    "frutas_modificadas = tuple(lista)\n",
    "\n",
    "frutas_modificadas"
   ]
  },
  {
   "cell_type": "code",
   "execution_count": 33,
   "metadata": {},
   "outputs": [
    {
     "data": {
      "text/plain": [
       "('maca', 'banana', 'manga', 'uva', 'abacaxi', 'limão')"
      ]
     },
     "execution_count": 33,
     "metadata": {},
     "output_type": "execute_result"
    }
   ],
   "source": [
    "# 4. Concatene a tupla frutas_modificadas com a tupla ('abacaxi', 'limão') e armazene o resultado em uma nova tupla chamada frutas_concatenadas.\n",
    "\n",
    "tupla = ('abacaxi', 'limão')\n",
    "\n",
    "frutas_concatenadas = frutas_modificadas + tupla\n",
    "\n",
    "frutas_concatenadas\n"
   ]
  },
  {
   "cell_type": "code",
   "execution_count": 37,
   "metadata": {},
   "outputs": [
    {
     "name": "stdout",
     "output_type": "stream",
     "text": [
      "Uva está dentro da tupla\n"
     ]
    }
   ],
   "source": [
    "# 5. Verifique se o elemento 'uva' está presente na tupla frutas_concatenadas.\n",
    "\n",
    "for verificar_frutas in frutas_concatenadas:\n",
    "    if 'uva' in frutas_concatenadas:\n",
    "        print('Uva está dentro da tupla')\n",
    "        break\n",
    "    else:\n",
    "        print('Não existe uva dentro da tupla')\n",
    "        break"
   ]
  },
  {
   "cell_type": "code",
   "execution_count": 41,
   "metadata": {},
   "outputs": [
    {
     "data": {
      "text/plain": [
       "1"
      ]
     },
     "execution_count": 41,
     "metadata": {},
     "output_type": "execute_result"
    }
   ],
   "source": [
    "# 6. Descubra o índice do elemento 'banana' na tupla frutas_concatenadas.\n",
    "\n",
    "index_banana = frutas_concatenadas.index('banana')\n",
    "index_banana"
   ]
  },
  {
   "cell_type": "code",
   "execution_count": 42,
   "metadata": {},
   "outputs": [
    {
     "data": {
      "text/plain": [
       "1"
      ]
     },
     "execution_count": 42,
     "metadata": {},
     "output_type": "execute_result"
    }
   ],
   "source": [
    "# 7. Conte quantas vezes o elemento 'uva' aparece na tupla frutas_concatenadas.\n",
    "\n",
    "quantas_vezes = frutas_concatenadas.count('uva')\n",
    "\n",
    "quantas_vezes"
   ]
  },
  {
   "cell_type": "code",
   "execution_count": 46,
   "metadata": {},
   "outputs": [
    {
     "name": "stdout",
     "output_type": "stream",
     "text": [
      "2\n",
      "4\n",
      "6\n",
      "8\n",
      "10\n"
     ]
    }
   ],
   "source": [
    "# 8. Crie uma tupla chamada numeros com os números de 1 a 5.\n",
    "\n",
    "numeros = (1, 2, 3, 4, 5)\n",
    "\n",
    "# 9. Multiplique cada elemento da tupla numeros por 2 e armazene o resultado em uma nova tupla chamada numeros_dobrados.\n",
    "\n",
    "numeros_dobrados = []\n",
    "\n",
    "for y in numeros:\n",
    "    numeros_dobrados = y*2\n",
    "    print(numeros_dobrados)\n",
    "    "
   ]
  },
  {
   "attachments": {},
   "cell_type": "markdown",
   "metadata": {},
   "source": [
    "# Concatenando e combinando listas\n",
    "\n",
    " - a. sort() aleatório\n",
    " - b = ['saw', 'small', 'he', 'fixes', 'six']\n",
    " - b.sort(key=len) // (key=len) função dentro do sort() para ordenar por número de caracteres"
   ]
  }
 ],
 "metadata": {
  "kernelspec": {
   "display_name": "Python 3",
   "language": "python",
   "name": "python3"
  },
  "language_info": {
   "codemirror_mode": {
    "name": "ipython",
    "version": 3
   },
   "file_extension": ".py",
   "mimetype": "text/x-python",
   "name": "python",
   "nbconvert_exporter": "python",
   "pygments_lexer": "ipython3",
   "version": "3.11.4"
  },
  "orig_nbformat": 4
 },
 "nbformat": 4,
 "nbformat_minor": 2
}
