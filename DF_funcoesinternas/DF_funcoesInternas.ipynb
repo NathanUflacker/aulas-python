{
 "cells": [
  {
   "attachments": {},
   "cell_type": "markdown",
   "metadata": {},
   "source": [
    "# Data Frames e funções internas do python"
   ]
  },
  {
   "attachments": {},
   "cell_type": "markdown",
   "metadata": {},
   "source": [
    "f = lamba x: x + x\n",
    "\n",
    "f = objeto\n",
    "\n",
    "x: = palavra chave\n",
    "\n",
    "\"x + x\" expressão"
   ]
  },
  {
   "attachments": {},
   "cell_type": "markdown",
   "metadata": {},
   "source": [
    "1) Multiplicação\n",
    "\n",
    "quadrado = lambda x: x * x"
   ]
  },
  {
   "cell_type": "code",
   "execution_count": null,
   "metadata": {},
   "outputs": [],
   "source": [
    "multiplicacao = lambda x: x*x\n",
    "multiplicacao"
   ]
  },
  {
   "attachments": {},
   "cell_type": "markdown",
   "metadata": {},
   "source": [
    "2. Elevar nº ao quadrado\n",
    "\n",
    "triplo = lambda x: x*2"
   ]
  },
  {
   "cell_type": "code",
   "execution_count": 3,
   "metadata": {},
   "outputs": [],
   "source": [
    "quadrado = lambda x: x*2"
   ]
  },
  {
   "attachments": {},
   "cell_type": "markdown",
   "metadata": {},
   "source": [
    "3. Elevar ao Cubo\n",
    "\n",
    "cubo = lambda x: x*3"
   ]
  },
  {
   "attachments": {},
   "cell_type": "markdown",
   "metadata": {},
   "source": [
    "4) N_completo = lambda nome, sobrenome: f'Nome: {nome} \\n Sobrenome: {sobrenome}\n",
    "\n",
    "print(nome)"
   ]
  },
  {
   "cell_type": "code",
   "execution_count": 7,
   "metadata": {},
   "outputs": [
    {
     "name": "stdout",
     "output_type": "stream",
     "text": [
      "Nome: Professor\n",
      "Sobrenome: Walter White\n"
     ]
    }
   ],
   "source": [
    "nome_completo = lambda nome, sobrenome: f'Nome: {nome}\\nSobrenome: {sobrenome}'\n",
    "\n",
    "print(nome_completo (\"Professor\", \"Walter White\"))"
   ]
  },
  {
   "cell_type": "code",
   "execution_count": 12,
   "metadata": {},
   "outputs": [
    {
     "name": "stdout",
     "output_type": "stream",
     "text": [
      "True\n"
     ]
    }
   ],
   "source": [
    "comeca_com_g = lambda x:True if x.startswith('G') else False\n",
    "print(comeca_com_g('Granada'))"
   ]
  },
  {
   "cell_type": "code",
   "execution_count": 18,
   "metadata": {},
   "outputs": [
    {
     "name": "stdout",
     "output_type": "stream",
     "text": [
      "True\n",
      "True\n"
     ]
    }
   ],
   "source": [
    "par = lambda x:True if x % 2 != 1 else False\n",
    "print(par(2))\n",
    "\n",
    "impar = lambda x:True if x % 2 == 1 else False\n",
    "print(impar(3))"
   ]
  },
  {
   "cell_type": "code",
   "execution_count": 26,
   "metadata": {},
   "outputs": [
    {
     "name": "stdout",
     "output_type": "stream",
     "text": [
      "criança\n"
     ]
    }
   ],
   "source": [
    "classificar_idade = lambda idade: 'criança' if idade < 13 else 'Adolescente' if idade < 18 else 'adulto'\n",
    "# isso seria um if dentro do outro ou uma função com elifs?\n",
    "print(classificar_idade(2))"
   ]
  },
  {
   "cell_type": "code",
   "execution_count": 29,
   "metadata": {},
   "outputs": [
    {
     "data": {
      "text/plain": [
       "89.6"
      ]
     },
     "execution_count": 29,
     "metadata": {},
     "output_type": "execute_result"
    }
   ],
   "source": [
    "conv_temperatura = lambda temp, escala: (temp * 9/5) + 32 if escala == 'C' else (temp - 32) * 5/6 if escala == 'F' else 'escala inválida'\n",
    "conv_temperatura(32, 'C')"
   ]
  },
  {
   "cell_type": "code",
   "execution_count": 30,
   "metadata": {},
   "outputs": [
    {
     "name": "stdout",
     "output_type": "stream",
     "text": [
      "71\n"
     ]
    }
   ],
   "source": [
    "def const_quadratica(a, b, c): \n",
    "    #  Retorna a função f(x) = ax^2 + bx + c\n",
    "    return lambda x: a*x**2 + b*x + c\n",
    "\n",
    "f = const_quadratica(2, 3, 6)\n",
    "print(f(5))"
   ]
  },
  {
   "attachments": {},
   "cell_type": "markdown",
   "metadata": {},
   "source": [
    "# Exercicios\n",
    "\n",
    "Ex1 - Crie uma função dentro de uma funçao para calcular a média ponderada de dois números\n",
    "\n",
    "Ex2 - Crie uma função para calcular o perímetro de um retângulo com base na altura e na largura\n",
    "\n",
    "Ex3 - Crie uma função para calcular o volume de um retângulo.\n",
    "\n",
    "Ex4 - Crie uma função para calcular a equação de newtor: F = m*a, dando os parametros 'm' e 'a' na função."
   ]
  },
  {
   "cell_type": "code",
   "execution_count": 33,
   "metadata": {},
   "outputs": [
    {
     "name": "stdout",
     "output_type": "stream",
     "text": [
      "2.0\n"
     ]
    }
   ],
   "source": [
    "def media(peso1, peso2):\n",
    "    # (x * peso1 + y*peso2) / (peso1 + peso2)\n",
    "    return lambda x,y: (x*peso1 + y*peso2) / (peso1 + peso2)\n",
    "\n",
    "\n",
    "f = media(3, 4)\n",
    "\n",
    "print(f(2, 2))"
   ]
  },
  {
   "cell_type": "code",
   "execution_count": 62,
   "metadata": {},
   "outputs": [],
   "source": [
    "def retangulo(b):\n",
    "    return lambda h: 2 * (b + h)\n",
    "\n",
    "perimetro = retangulo(2)\n",
    "# Aqui damos o valor de b\n",
    "\n",
    "perimetro(2)\n",
    "# aqui damos o valor de h\n",
    "\n",
    "# # # # # # # # # # # # # # # # # # # # # \n",
    "\n",
    "#  Professor:\n",
    "\n",
    "def retangulo(b, h):\n",
    "    return lambda: 2 * (b + h)\n",
    "\n",
    "# print(retangulo(2, 4))"
   ]
  },
  {
   "cell_type": "code",
   "execution_count": 65,
   "metadata": {},
   "outputs": [
    {
     "name": "stdout",
     "output_type": "stream",
     "text": [
      "8\n"
     ]
    }
   ],
   "source": [
    "def retangulo(b, h, c):\n",
    "    return lambda: b * h * c\n",
    "\n",
    "volume = retangulo(2, 2, 2)\n",
    "\n",
    "print(volume())"
   ]
  },
  {
   "cell_type": "code",
   "execution_count": 51,
   "metadata": {},
   "outputs": [
    {
     "name": "stdout",
     "output_type": "stream",
     "text": [
      "F = 8 \n"
     ]
    }
   ],
   "source": [
    "def niutao(m, a):\n",
    "    return lambda F: f'{F} = {m * a} '\n",
    "\n",
    "forca = niutao(2, 4)\n",
    "print(forca('F'))"
   ]
  },
  {
   "cell_type": "code",
   "execution_count": 69,
   "metadata": {},
   "outputs": [
    {
     "data": {
      "text/plain": [
       "100"
      ]
     },
     "execution_count": 69,
     "metadata": {},
     "output_type": "execute_result"
    }
   ],
   "source": [
    "def funcao_newton(massa, aceleracao):\n",
    "    return lambda: massa * aceleracao\n",
    "\n",
    "nillton = funcao_newton(10,10)\n",
    "resultado = nillton()\n",
    "resultado"
   ]
  },
  {
   "attachments": {},
   "cell_type": "markdown",
   "metadata": {},
   "source": [
    "# Calcular a area de diferentes formas geometricas utilizando a função def e lambda\n",
    "(quadrado, retângulo, triângulo  círculo)"
   ]
  },
  {
   "cell_type": "code",
   "execution_count": 71,
   "metadata": {},
   "outputs": [],
   "source": [
    "def area_quadrado(forma, **geometrica):\n",
    "    # ** serve pra separar o que vai estar dentro da função\n",
    "    # Retorna uma função que calcula a área de formas geometricas\n",
    "    area_funcoes = {\n",
    "        \"quadrado\": lambda lado: lado**2,\n",
    "        \"retangulo\": lambda base, altura: base * altura,\n",
    "        \"circulo\": lambda raio: 3.14 * raio**2,\n",
    "        \"triangulo\": lambda base, altura: base * altura / 2}\n",
    "    \n",
    "    if forma in area_funcoes:\n",
    "        return area_funcoes[forma](**geometrica)\n",
    "    else:\n",
    "        return \"Forma geométrica não identificada (404 ERROR)\""
   ]
  },
  {
   "cell_type": "code",
   "execution_count": 77,
   "metadata": {},
   "outputs": [
    {
     "name": "stdout",
     "output_type": "stream",
     "text": [
      "área do quadrado 16\n",
      "área do retangulo 8\n",
      "área do circulo 50.24\n",
      "área do triangulo 4.0\n"
     ]
    }
   ],
   "source": [
    "print('área do quadrado', area_quadrado(\"quadrado\", lado = 4))\n",
    "print('área do retangulo', area_quadrado(\"retangulo\", base = 4, altura = 2))\n",
    "print('área do circulo', area_quadrado(\"circulo\", raio = 4))\n",
    "print('área do triangulo', area_quadrado(\"triangulo\", base = 4, altura = 2))"
   ]
  },
  {
   "cell_type": "code",
   "execution_count": 78,
   "metadata": {},
   "outputs": [
    {
     "data": {
      "text/plain": [
       "[2, 4, 5, 7]"
      ]
     },
     "execution_count": 78,
     "metadata": {},
     "output_type": "execute_result"
    }
   ],
   "source": [
    "numeros = [2, 5, 7, 4]\n",
    "\n",
    "ordena = sorted(numeros)\n",
    "ordena"
   ]
  },
  {
   "cell_type": "code",
   "execution_count": 81,
   "metadata": {},
   "outputs": [
    {
     "data": {
      "text/plain": [
       "['a', 'b', 'c', 'd']"
      ]
     },
     "execution_count": 81,
     "metadata": {},
     "output_type": "execute_result"
    }
   ],
   "source": [
    "letras = ['a', 'b', 'd', 'c']\n",
    "\n",
    "ordena = sorted(letras)\n",
    "ordena"
   ]
  },
  {
   "cell_type": "code",
   "execution_count": 89,
   "metadata": {},
   "outputs": [
    {
     "data": {
      "text/plain": [
       "['uva', 'pera', 'abacaxi', 'laranja']"
      ]
     },
     "execution_count": 89,
     "metadata": {},
     "output_type": "execute_result"
    }
   ],
   "source": [
    "frutas = ['abacaxi','laranja', 'uva', 'pera']\n",
    "\n",
    "ordenada = sorted(frutas, key=lambda fruta: len(fruta))\n",
    "ordenada"
   ]
  },
  {
   "cell_type": "code",
   "execution_count": 92,
   "metadata": {},
   "outputs": [
    {
     "data": {
      "text/plain": [
       "[(2, 8), (2, 1), (3, 2), (4, 3)]"
      ]
     },
     "execution_count": 92,
     "metadata": {},
     "output_type": "execute_result"
    }
   ],
   "source": [
    "# Ordenação de uma lista de tuplas pelo primeiro ou segundo elemento\n",
    "\n",
    "tuplas = [(3, 2), (2, 8), (4, 3), (2, 1)]\n",
    "ordena_tupla = sorted(tuplas, key= lambda tupla: tupla[0])\n",
    "ordena_tupla"
   ]
  },
  {
   "attachments": {},
   "cell_type": "markdown",
   "metadata": {},
   "source": [
    "Crie um programa para ordenar a lista abaixo pelo primeiro número e depois pelo nome.\n",
    "\n",
    "tupla = [(10, 'ana'), (8, 'mark'), (4, 'mary anne'), (5, 'marcelo')]"
   ]
  },
  {
   "cell_type": "code",
   "execution_count": 96,
   "metadata": {},
   "outputs": [
    {
     "data": {
      "text/plain": [
       "[(4, 'mary anne'), (5, 'marcelo'), (8, 'mark'), (10, 'ana')]"
      ]
     },
     "execution_count": 96,
     "metadata": {},
     "output_type": "execute_result"
    }
   ],
   "source": [
    "tupla = [(10, 'ana'), (8, 'mark'), (4, 'mary anne'), (5, 'marcelo')]\n",
    "\n",
    "ordena_numero = sorted(tupla, key= lambda tuplas: tuplas[0])\n",
    "ordena_nome = sorted(tupla, key= lambda tuplas: tuplas[1])\n",
    "ordena_numero"
   ]
  },
  {
   "cell_type": "code",
   "execution_count": 97,
   "metadata": {},
   "outputs": [
    {
     "data": {
      "text/plain": [
       "[(10, 'ana'), (5, 'marcelo'), (8, 'mark'), (4, 'mary anne')]"
      ]
     },
     "execution_count": 97,
     "metadata": {},
     "output_type": "execute_result"
    }
   ],
   "source": [
    "ordena_nome = sorted(tupla, key= lambda tuplas: tuplas[1])\n",
    "ordena_nome\n"
   ]
  },
  {
   "attachments": {},
   "cell_type": "markdown",
   "metadata": {},
   "source": [
    "# 01) Gerenciamento de estoque: crie um programa para apresentar a relação preço x produto usando \n",
    "# usando sorted e lambda"
   ]
  },
  {
   "cell_type": "code",
   "execution_count": 127,
   "metadata": {},
   "outputs": [
    {
     "name": "stdout",
     "output_type": "stream",
     "text": [
      "Calca - Valor total em estoque 1500\n",
      "Camiseta - Valor total em estoque 2000\n",
      "Tenis - Valor total em estoque 30000\n"
     ]
    }
   ],
   "source": [
    "estoque =[ \n",
    "    ('Camiseta', 100, 20),\n",
    "    ('Calca', 50, 30),\n",
    "    ('Tenis', 300,100),\n",
    "]\n",
    "\n",
    "#  Relação preço x produto\n",
    "\n",
    "produtos_ordenados = sorted(estoque, key= lambda estoque: estoque[1]*estoque[2])\n",
    "\n",
    "for produto in produtos_ordenados:\n",
    "    print(f'{produto[0]} - Valor total em estoque {produto[1] * produto[2]}')"
   ]
  },
  {
   "cell_type": "code",
   "execution_count": null,
   "metadata": {},
   "outputs": [],
   "source": [
    "# def area_quadrado(forma, **geometrica):\n",
    "#     # ** serve pra separar o que vai estar dentro da função\n",
    "#     # Retorna uma função que calcula a área de formas geometricas\n",
    "#     area_funcoes = {\n",
    "#         \"quadrado\": lambda lado: lado**2,\n",
    "#         \"retangulo\": lambda base, altura: base * altura,\n",
    "#         \"circulo\": lambda raio: 3.14 * raio**2,\n",
    "#         \"triangulo\": lambda base, altura: base * altura / 2}\n",
    "    \n",
    "#     if forma in area_funcoes:\n",
    "#         return area_funcoes[forma](**geometrica)\n",
    "#     else:\n",
    "#         return \"Forma geométrica não identificada (404 ERROR)\""
   ]
  }
 ],
 "metadata": {
  "kernelspec": {
   "display_name": "Python 3",
   "language": "python",
   "name": "python3"
  },
  "language_info": {
   "codemirror_mode": {
    "name": "ipython",
    "version": 3
   },
   "file_extension": ".py",
   "mimetype": "text/x-python",
   "name": "python",
   "nbconvert_exporter": "python",
   "pygments_lexer": "ipython3",
   "version": "3.11.4"
  },
  "orig_nbformat": 4
 },
 "nbformat": 4,
 "nbformat_minor": 2
}
